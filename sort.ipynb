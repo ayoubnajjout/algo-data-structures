{
 "cells": [
  {
   "cell_type": "markdown",
   "metadata": {},
   "source": [
    "# **Sorting algorithms using python**"
   ]
  },
  {
   "cell_type": "markdown",
   "metadata": {},
   "source": [
    "## 1. Bubble Sort\n",
    "\n",
    "Bubble Sort is a simple sorting algorithm that repeatedly steps through the list, compares adjacent elements, and swaps them if they are in the wrong order. This process is repeated until the list is sorted.\n",
    "\n",
    "### How it works:\n",
    "1. Start at the beginning of the list.\n",
    "2. Compare the first two elements. If the first is greater than the second, swap them.\n",
    "3. Move to the next pair of elements and repeat the comparison and swap.\n",
    "4. Continue this process until you reach the end of the list.\n",
    "5. Repeat the entire process until no swaps are needed (the list is sorted).\n",
    "\n",
    "### Complexity:\n",
    "- **Time Complexity**: \n",
    "    - Worst and Average Case: O(n²)\n",
    "    - Best Case: O(n) (if the list is already sorted)\n",
    "- **Space Complexity**: O(1) (in-place sorting)\n"
   ]
  },
  {
   "cell_type": "code",
   "execution_count": 6,
   "metadata": {},
   "outputs": [
    {
     "name": "stdout",
     "output_type": "stream",
     "text": [
      "[11, 12, 22, 25, 34, 64, 90]\n"
     ]
    }
   ],
   "source": [
    "arr = [64, 34, 25, 12, 22, 11, 90]\n",
    "\n",
    "for i in range(len(arr)):\n",
    "    for j in range(0,len(arr)-1):\n",
    "        if arr[j] > arr[j+1]:\n",
    "            arr[j], arr[j+1] = arr[j+1], arr[j]\n",
    "print(arr)"
   ]
  },
  {
   "cell_type": "markdown",
   "metadata": {},
   "source": [
    "## 2. Selection Sort\n",
    "\n",
    "Selection Sort works by repeatedly finding the minimum element from the unsorted part of the list and placing it at the beginning.\n",
    "\n",
    "### How it works:\n",
    "1. Divide the list into a sorted and an unsorted part.\n",
    "2. Find the smallest element in the unsorted part.\n",
    "3. Swap it with the first element of the unsorted part.\n",
    "4. Move the boundary between the sorted and unsorted parts one element to the right.\n",
    "5. Repeat until the entire list is sorted.\n",
    "\n",
    "### Complexity:\n",
    "- **Time Complexity**: O(n²) in all cases.\n",
    "- **Space Complexity**: O(1) (in-place sorting)"
   ]
  },
  {
   "cell_type": "code",
   "execution_count": 2,
   "metadata": {},
   "outputs": [
    {
     "name": "stdout",
     "output_type": "stream",
     "text": [
      "[11, 12, 22, 25, 34, 64, 90]\n"
     ]
    }
   ],
   "source": [
    "arr = [64, 34, 25, 12, 22, 11, 90]\n",
    "\n",
    "for i in range(len(arr)):\n",
    "    min = i\n",
    "    for j in range(i+1,len(arr)):\n",
    "        if arr[min] > arr[j]:\n",
    "            arr[i],arr[j] = arr[j],arr[i]\n",
    "\n",
    "print(arr)"
   ]
  },
  {
   "cell_type": "markdown",
   "metadata": {},
   "source": [
    "## 3. Insertion Sort\n",
    "\n",
    "Insertion Sort builds the final sorted array one element at a time by inserting each new element into its correct position in the already sorted part.\n",
    "\n",
    "### How it works:\n",
    "1. Start with the second element (assume the first element is already sorted).\n",
    "2. Compare the current element with the previous elements.\n",
    "3. If the current element is smaller, shift the previous elements to the right.\n",
    "4. Insert the current element into its correct position.\n",
    "5. Repeat for all elements.\n",
    "\n",
    "### Complexity:\n",
    "- **Time Complexity**: \n",
    "    - Worst and Average Case: O(n²)\n",
    "    - Best Case: O(n) (if the list is already sorted)\n",
    "- **Space Complexity**: O(1) (in-place sorting)\n"
   ]
  },
  {
   "cell_type": "code",
   "execution_count": 10,
   "metadata": {},
   "outputs": [
    {
     "name": "stdout",
     "output_type": "stream",
     "text": [
      "[11, 12, 22, 25, 34, 64, 90]\n"
     ]
    }
   ],
   "source": [
    "arr = [64, 34, 25, 12, 22, 11, 90]\n",
    "\n",
    "for i in range(1,len(arr)):\n",
    "    idx = arr[i]\n",
    "    j = i-1\n",
    "    while j >= 0 and idx < arr[j]:\n",
    "        arr[j+1] = arr[j]\n",
    "        j -= 1\n",
    "    arr[j+1] = idx\n",
    "\n",
    "print(arr)"
   ]
  }
 ],
 "metadata": {
  "kernelspec": {
   "display_name": "main",
   "language": "python",
   "name": "python3"
  },
  "language_info": {
   "codemirror_mode": {
    "name": "ipython",
    "version": 3
   },
   "file_extension": ".py",
   "mimetype": "text/x-python",
   "name": "python",
   "nbconvert_exporter": "python",
   "pygments_lexer": "ipython3",
   "version": "3.10.16"
  }
 },
 "nbformat": 4,
 "nbformat_minor": 2
}
