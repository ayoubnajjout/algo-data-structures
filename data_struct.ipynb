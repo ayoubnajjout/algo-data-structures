{
 "cells": [
  {
   "cell_type": "markdown",
   "metadata": {},
   "source": [
    "# **Data structures in python**"
   ]
  },
  {
   "cell_type": "markdown",
   "metadata": {},
   "source": [
    "## 1. **Linked Lists**\n",
    "\n",
    "A linked list is a linear data structure where each element (node) contains data and a reference to the next node.\n",
    "\n",
    "**Key Features:**\n",
    "- **Dynamic size:** Can grow or shrink as needed.\n",
    "- **Efficient insertions/deletions:** O(1) at the head."
   ]
  },
  {
   "cell_type": "code",
   "execution_count": 16,
   "metadata": {},
   "outputs": [
    {
     "name": "stdout",
     "output_type": "stream",
     "text": [
      "5->1->3->0->2->None\n"
     ]
    },
    {
     "data": {
      "text/plain": [
       "2"
      ]
     },
     "execution_count": 16,
     "metadata": {},
     "output_type": "execute_result"
    }
   ],
   "source": [
    "class Node():\n",
    "    def __init__(self, data):\n",
    "        self.data = data\n",
    "        self.next = None\n",
    "\n",
    "class LinkedList():\n",
    "    def __init__(self):\n",
    "        self.head = None\n",
    "\n",
    "    def add(self, data):\n",
    "        new_node = Node(data)\n",
    "        if self.head is None:\n",
    "            self.head = new_node\n",
    "        else:\n",
    "            temp = self.head\n",
    "            while temp.next is not None:\n",
    "                temp = temp.next\n",
    "            temp.next = new_node\n",
    "        \n",
    "    def add_first(self,data):\n",
    "        new_node = Node(data)\n",
    "        if self.head is None:\n",
    "            self.head = new_node\n",
    "        else:\n",
    "            temp = self.head\n",
    "            self.head = new_node\n",
    "            self.head.next = temp\n",
    "\n",
    "    def find(self, data):\n",
    "        temp = self.head\n",
    "        while temp is not None:\n",
    "            if temp.data == data:\n",
    "                return True\n",
    "            temp = temp.next\n",
    "        return False\n",
    "\n",
    "    def find_index(self, data):\n",
    "        temp = self.head\n",
    "        index = 0\n",
    "        while temp is not None:\n",
    "            if temp.data == data:\n",
    "                return index\n",
    "            temp = temp.next\n",
    "            index += 1\n",
    "        return -1\n",
    "\n",
    "    def show(self):\n",
    "        temp = self.head\n",
    "        while temp is not None:\n",
    "            print(temp.data, end=\"->\")\n",
    "            temp = temp.next\n",
    "        print(None)\n",
    "\n",
    "l_list = LinkedList()\n",
    "\n",
    "l_list.add(1)\n",
    "l_list.add(3)\n",
    "l_list.add(0)\n",
    "l_list.add_first(5)\n",
    "l_list.add(2)\n",
    "l_list.show()\n",
    "l_list.find(3)\n",
    "l_list.find_index(3)"
   ]
  },
  {
   "cell_type": "markdown",
   "metadata": {},
   "source": [
    "## 2. **Trees**\n",
    "\n",
    "A tree is a hierarchical data structure with a root node and child nodes. Each node has at most one parent and zero or more children.\n",
    "\n",
    "**Example (Binary Tree):**"
   ]
  },
  {
   "cell_type": "code",
   "execution_count": 3,
   "metadata": {},
   "outputs": [
    {
     "name": "stdout",
     "output_type": "stream",
     "text": [
      "In-order traversal:\n",
      "4 2 5 1 3 "
     ]
    }
   ],
   "source": [
    "class Node:\n",
    "    def __init__(self, data):\n",
    "        self.data = data\n",
    "        self.left = None\n",
    "        self.right = None\n",
    "\n",
    "root = Node(1)\n",
    "root.left = Node(2)\n",
    "root.right = Node(3)\n",
    "root.left.left = Node(4)\n",
    "root.left.right = Node(5)\n",
    "\n",
    "def in_order_traversal(node):\n",
    "    if node:\n",
    "        in_order_traversal(node.left)\n",
    "        print(node.data, end=\" \")\n",
    "        in_order_traversal(node.right)\n",
    "\n",
    "print(\"In-order traversal:\")\n",
    "in_order_traversal(root)"
   ]
  }
 ],
 "metadata": {
  "kernelspec": {
   "display_name": "main",
   "language": "python",
   "name": "python3"
  },
  "language_info": {
   "codemirror_mode": {
    "name": "ipython",
    "version": 3
   },
   "file_extension": ".py",
   "mimetype": "text/x-python",
   "name": "python",
   "nbconvert_exporter": "python",
   "pygments_lexer": "ipython3",
   "version": "3.12.9"
  }
 },
 "nbformat": 4,
 "nbformat_minor": 2
}
